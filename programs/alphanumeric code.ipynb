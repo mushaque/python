{
 "cells": [
  {
   "cell_type": "code",
   "execution_count": 5,
   "id": "fab29725-1817-485b-9a74-80cd7a2a80f4",
   "metadata": {
    "scrolled": true
   },
   "outputs": [
    {
     "name": "stdout",
     "output_type": "stream",
     "text": [
      "['oiRRoX', 'P2o8Wu', '82UR8y', 'QNJ4WI', 'RbUYku', 'Upgrso', '61ceeI', 'rlfV17', '7SsHqr', 'JNikQF', '5fg47n', '5Kksvl', 't1JLR0', '3ervKt', 'n4tRJh', 'Ncc1ln', 'SROKzI', 'K1pPAS', 'XqfUz2', 'Ggpwep', 'nbL4Uv', '22d0Gj', 'MxbC9K', 'LAjwrj', 'y3NbAz', 'BH4edE', 'Ig6k9A', 'drz33p', 'ybkNpS', '9b6S0E', 'lwoW9Y', '45xHcd', 'TtiKRe', 'Qba1Bc', 'F48LPO', 's6yP1Z', 'Lk26W5', 'PG3cgp', 'd9KjBx', 'iMzZfv', 'Xq2l1m', 'b7RofQ', 'H4lMNI', 'eA6HPW', 'pSfrhb', 'yTpArD', 'hqiJVl', 'L3R4qk', 'c7T43l', 'PXLh5Z', 'Vjx87y', 'eoNFDw', 'CyJPRx', 'A8aqvY', 'lZ1yR0', '9aPIHg', 'vVFzjf', 's4vlvc', 'FKiLPp', 'O7vSx3', 'wo7Er1', 'kJiZwo', 'BcfE8f', 'KvjpZV', 'WuPdpC', '4puk5S', '0rZ32k', 'wTbeuy', 'AiL59B', 'XS2hi1', 'nzFfmt', 'djs9mg', '0Dp2hU', 'iRs5MM', 'HQ5pK9', '7Onnak', 'pjQcLM', 'fFdvkS', 'hHA3lm', 'XD1dLn', 'mMFdkV', 'UXKIgZ', '8rFLIJ', 'N73kmk', 'd3oNHY', 'kVnjhe', 'LeLeZP', 'FWR79P', 'P90IhT', 'YUbR2S', 'EzJpq5', 'OOEjYi', 'hxInmD', 'y8xmYy', '2Wcud0', 'cqeJaI', 'fFP2La', 'c2PsXC', '9QifDo', 'pl5oHw']\n"
     ]
    }
   ],
   "source": [
    "#a function that generates an alphanumeric code with a char length of 6 and adds it to the list until the length of the list is 100 and returns the list as output\n",
    "def generate_alphanumeric_code(length=6):\n",
    "    alphanumeric_characters = string.ascii_letters + string.digits  # A-Z, a-z, 0-9\n",
    "    code = ''.join(random. choice(alphanumeric_characters) for _ in range(length))# join two or more strings to create a single new string.\n",
    "    return code\n",
    "    #random. the choice to pick a random character from the alphanumeric characters string. \n",
    "\n",
    "def generate_code_list(length_of_list=100):# generates a list of unique alphanumeric codes until the desired length is reached\n",
    "    code_list = []\n",
    "    \n",
    "    while len(code_list) < length_of_list:# it will continue the length of the list\n",
    "        new_code = generate_alphanumeric_code()\n",
    "        \n",
    "        if new_code not in code_list: # it will check the duplicates\n",
    "            code_list.append(new_code)\n",
    "    \n",
    "    return code_list\n",
    "\n",
    "# Example usage:\n",
    "result_list = generate_code_list()\n",
    "print(result_list)"
   ]
  }
 ],
 "metadata": {
  "kernelspec": {
   "display_name": "Python 3 (ipykernel)",
   "language": "python",
   "name": "python3"
  },
  "language_info": {
   "codemirror_mode": {
    "name": "ipython",
    "version": 3
   },
   "file_extension": ".py",
   "mimetype": "text/x-python",
   "name": "python",
   "nbconvert_exporter": "python",
   "pygments_lexer": "ipython3",
   "version": "3.12.2"
  }
 },
 "nbformat": 4,
 "nbformat_minor": 5
}
